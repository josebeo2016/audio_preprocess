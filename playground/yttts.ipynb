{
 "cells": [
  {
   "attachments": {},
   "cell_type": "markdown",
   "metadata": {},
   "source": [
    "# Youtube TTS dataset analysis and reformation\n",
    "https://github.com/ryanrudes/YTTTS"
   ]
  },
  {
   "cell_type": "code",
   "execution_count": 1,
   "metadata": {},
   "outputs": [],
   "source": [
    "from numpy import reshape\n",
    "import seaborn as sns\n",
    "import pandas as pd  \n",
    "import torch\n",
    "from os import listdir, walk\n",
    "from os.path import isfile, join\n",
    "from tqdm import tqdm\n",
    "import matplotlib.pyplot as plt\n",
    "import librosa.display\n",
    "import IPython.display as ipd\n",
    "import soundfile as sf\n",
    "import numpy as np\n",
    "from IPython.display import display, Audio\n",
    "import librosa\n",
    "import random\n",
    "def ms2samples(time, rate):\n",
    "    return int((time/1000)*rate)\n",
    "\n",
    "def samples2ms(sample,rate):\n",
    "    return int((sample/rate)*1000)\n",
    "    \n",
    "def graph_n_play(y,sr):\n",
    "    fig, ax = plt.subplots()\n",
    "    D = librosa.amplitude_to_db(np.abs(librosa.stft(y)), ref=np.max)\n",
    "    img = librosa.display.specshow(D, y_axis='linear', x_axis='time',\n",
    "                                   sr=sr, ax=ax)\n",
    "    ax.set(title='Linear-frequency power spectrogram')\n",
    "    ax.label_outer()\n",
    "    display(Audio(y,rate=sr))\n",
    "    plt.show()\n",
    "def linear_n_play(audio_path, sr=None):\n",
    "    # y, sr = sf.read(audio_path)\n",
    "    y, sr = librosa.load(audio_path, sr=sr)\n",
    "    fig, ax = plt.subplots()\n",
    "    D = librosa.amplitude_to_db(np.abs(librosa.stft(y)), ref=np.max)\n",
    "    img = librosa.display.specshow(D, y_axis='linear', x_axis='time',\n",
    "                                   sr=sr, ax=ax)\n",
    "    ax.set(title='Linear-frequency power spectrogram')\n",
    "    ax.label_outer()\n",
    "    display(Audio(y,rate=sr))\n",
    "    plt.show()\n",
    "def recursive_list_files(path, file_extension=\".wav\"):\n",
    "    \"\"\"Recursively lists all files in a directory and its subdirectories\"\"\"\n",
    "    files = []\n",
    "    for dirpath, dirnames, filenames in walk(path):\n",
    "        for filename in filenames:\n",
    "            if filename.endswith(file_extension):\n",
    "                files.append(join(dirpath, filename))\n",
    "    return files\n",
    "from audio_augmentor import BackgroundNoiseAugmentor"
   ]
  }
 ],
 "metadata": {
  "kernelspec": {
   "display_name": "py39",
   "language": "python",
   "name": "python3"
  },
  "language_info": {
   "codemirror_mode": {
    "name": "ipython",
    "version": 3
   },
   "file_extension": ".py",
   "mimetype": "text/x-python",
   "name": "python",
   "nbconvert_exporter": "python",
   "pygments_lexer": "ipython3",
   "version": "3.9.13"
  },
  "orig_nbformat": 4
 },
 "nbformat": 4,
 "nbformat_minor": 2
}
